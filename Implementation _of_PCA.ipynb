{
 "cells": [
  {
   "cell_type": "code",
   "execution_count": 22,
   "id": "89ef0dcf",
   "metadata": {},
   "outputs": [
    {
     "name": "stdout",
     "output_type": "stream",
     "text": [
      "Original data:\n",
      "[[1 2 3]\n",
      " [4 5 6]\n",
      " [7 8 9]]\n",
      "_______________________________________\n",
      "Principal components:\n",
      "[[-0.57735027 -0.57735027 -0.57735027]\n",
      " [-0.81649658  0.40824829  0.40824829]]\n",
      "\n",
      "Explained variance:\n",
      "[1.00000000e+00 1.11294118e-34]\n",
      "\n",
      "Transformed data:\n",
      "[[ 2.12132034e+00  4.46551999e-16]\n",
      " [ 0.00000000e+00  0.00000000e+00]\n",
      " [-2.12132034e+00 -4.46551999e-16]]\n"
     ]
    }
   ],
   "source": [
    "import numpy as np\n",
    "from sklearn.decomposition import PCA\n",
    "\n",
    "# 1. Create a sample dataset\n",
    "data = np.array([[1, 2, 3],\n",
    "                 [4, 5, 6],\n",
    "                 [7, 8, 9]])\n",
    "\n",
    "# 2. Standardize the data (important for PCA)\n",
    "from sklearn.preprocessing import StandardScaler\n",
    "scaler = StandardScaler()\n",
    "data_scaled = scaler.fit_transform(data)\n",
    "\n",
    "# 3. Create a PCA object with desired number of components\n",
    "pca = PCA(n_components=2)  # Reduce to 2 dimensions\n",
    "\n",
    "# 4. Fit the PCA model to the data\n",
    "pca.fit(data_scaled)\n",
    "\n",
    "# 5. Transform the data onto the principal components\n",
    "data_pca = pca.transform(data_scaled)\n",
    "\n",
    "print(\"Original data:\")\n",
    "print(data)\n",
    "print(\"_______________________________________\")\n",
    "\n",
    "# 6. Access principal components (eigenvectors) and explained variance\n",
    "print(\"Principal components:\")\n",
    "print(pca.components_)\n",
    "print()\n",
    "print(\"Explained variance:\")\n",
    "print(pca.explained_variance_ratio_)\n",
    "print()\n",
    "\n",
    "# 7. Print the transformed data\n",
    "print(\"Transformed data:\")\n",
    "print(data_pca)"
   ]
  },
  {
   "cell_type": "code",
   "execution_count": null,
   "id": "bb0c8579",
   "metadata": {},
   "outputs": [],
   "source": []
  }
 ],
 "metadata": {
  "kernelspec": {
   "display_name": "Python 3 (ipykernel)",
   "language": "python",
   "name": "python3"
  },
  "language_info": {
   "codemirror_mode": {
    "name": "ipython",
    "version": 3
   },
   "file_extension": ".py",
   "mimetype": "text/x-python",
   "name": "python",
   "nbconvert_exporter": "python",
   "pygments_lexer": "ipython3",
   "version": "3.10.9"
  }
 },
 "nbformat": 4,
 "nbformat_minor": 5
}
